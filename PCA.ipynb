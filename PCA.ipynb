{
  "nbformat": 4,
  "nbformat_minor": 0,
  "metadata": {
    "colab": {
      "name": "PCA",
      "provenance": [],
      "authorship_tag": "ABX9TyMT3IQxqeD6I6iKVr2AtQvR",
      "include_colab_link": true
    },
    "kernelspec": {
      "name": "python3",
      "display_name": "Python 3"
    },
    "language_info": {
      "name": "python"
    }
  },
  "cells": [
    {
      "cell_type": "markdown",
      "metadata": {
        "id": "view-in-github",
        "colab_type": "text"
      },
      "source": [
        "<a href=\"https://colab.research.google.com/github/Pedro69491/ML-Algorithms/blob/main/PCA.ipynb\" target=\"_parent\"><img src=\"https://colab.research.google.com/assets/colab-badge.svg\" alt=\"Open In Colab\"/></a>"
      ]
    },
    {
      "cell_type": "code",
      "metadata": {
        "id": "hcm3s0OrtQRP"
      },
      "source": [
        "import numpy as np\n",
        "import pandas as pd\n",
        "import matplotlib.pyplot as plt"
      ],
      "execution_count": null,
      "outputs": []
    },
    {
      "cell_type": "code",
      "metadata": {
        "id": "fI7fAA5OzMaC"
      },
      "source": [
        "with open('/content/bodyfat.txt', 'r') as file:\n",
        "  a = file.read()\n",
        "\n",
        "#a\n",
        "#a = a.replace('\\n', ')\n",
        "df = a.split('\\n')\n",
        "df = df[:252]\n",
        "df = np.array(df)\n",
        "\n",
        "df = np.array([np.array(i.strip().replace('     ','    ').replace('    ', '   ').replace('   ', '  ').replace('  ', ' ').split(' '), dtype=float) for i in df])\n",
        "\n",
        "total_df = df\n",
        "\n",
        "df = np.hstack((df[:,1].reshape(df.shape[0],1), df[:,7].reshape(df.shape[0],1)))\n",
        "\n"
      ],
      "execution_count": null,
      "outputs": []
    },
    {
      "cell_type": "code",
      "metadata": {
        "id": "iFFd8Yyl8DIC"
      },
      "source": [
        "class PCA:\n",
        "  def __init__(self, df):\n",
        "    self.df = df\n",
        "    self.M = len(self.df)\n",
        "\n",
        "  def mean_normalization(self):\n",
        "    return np.mean(self.df, axis=0)\n",
        "    \n",
        "  def covariance(self):\n",
        "    sum = 0\n",
        "    mean = self.mean_normalization()\n",
        "    for i in range(self.M):\n",
        "      sum += np.matmul(np.transpose([self.mean_free()[i]]),[self.mean_free()[i]])\n",
        "    return np.true_divide(sum, self.M-1)\n",
        "  \n",
        "  def eigenvalues(self, sigma):\n",
        "    return np.linalg.eig(sigma)[0]\n",
        "  \n",
        "  def eigenvectors(self, sigma):\n",
        "    return np.linalg.eig(sigma)[1]\n",
        "\n",
        "  def mean_free(self):\n",
        "    mean = self.mean_normalization()\n",
        "    return np.array([np.subtract(self.df[i],mean) for i in range(self.M)])\n",
        "    \n",
        "  def z_space(self):\n",
        "    eig_arr = self.eigenvectors(self.covariance())\n",
        "    return np.array([np.array(i).dot(eig_arr) for i in self.mean_free()])\n",
        "\n"
      ],
      "execution_count": null,
      "outputs": []
    },
    {
      "cell_type": "code",
      "metadata": {
        "id": "iZ86taq125Ut",
        "colab": {
          "base_uri": "https://localhost:8080/"
        },
        "outputId": "0c62d7de-a2f2-4db1-d207-e036f5b7d2c4"
      },
      "source": [
        "a = PCA(df)\n",
        "\n",
        "U = a.eigenvectors(a.covariance())\n",
        "print(U.shape)\n",
        "f_m = a.mean_free()\n",
        "a_m = a.mean_normalization()\n",
        "print(np.array([a_m]).T.shape)\n",
        "vals = a.eigenvalues(a.covariance())\n",
        "\n"
      ],
      "execution_count": null,
      "outputs": [
        {
          "output_type": "stream",
          "name": "stdout",
          "text": [
            "(2, 2)\n",
            "(2, 1)\n"
          ]
        }
      ]
    },
    {
      "cell_type": "code",
      "metadata": {
        "colab": {
          "base_uri": "https://localhost:8080/",
          "height": 269
        },
        "id": "JUori-n4uEaK",
        "outputId": "8e639bcf-1091-4287-ce20-583412cefb94"
      },
      "source": [
        "#b)Project the original 2D data \n",
        "x1 = np.array([i[0] for i in df])\n",
        "y1 = np.array([i[1] for i in df])\n",
        "plt.scatter(x1, y1)\n",
        "plt.ylim(-50,200)\n",
        "plt.xlim(-50, 70)\n",
        "plt.show()"
      ],
      "execution_count": null,
      "outputs": [
        {
          "output_type": "display_data",
          "data": {
            "image/png": "[encoded data removed]",
            "text/plain": [
              "<Figure size 432x288 with 1 Axes>"
            ]
          },
          "metadata": {
            "needs_background": "light"
          }
        }
      ]
    },
    {
      "cell_type": "code",
      "metadata": {
        "colab": {
          "base_uri": "https://localhost:8080/",
          "height": 269
        },
        "id": "F01-rsZULgzN",
        "outputId": "972dc023-a792-4d76-b7ed-086f7d50991d"
      },
      "source": [
        "#b)Project the new 2D data \n",
        "x2 = [i[0] for i in a.mean_free()]\n",
        "y2 = [i[1] for i in a.mean_free()]\n",
        "\n",
        "plt.scatter(x2, y2)\n",
        "plt.ylim(-100,200)\n",
        "plt.xlim(-50, 70)\n",
        "plt.show()"
      ],
      "execution_count": null,
      "outputs": [
        {
          "output_type": "display_data",
          "data": {
            "image/png": "[encoded data removed]",
            "text/plain": [
              "<Figure size 432x288 with 1 Axes>"
            ]
          },
          "metadata": {
            "needs_background": "light"
          }
        }
      ]
    },
    {
      "cell_type": "code",
      "metadata": {
        "colab": {
          "base_uri": "https://localhost:8080/",
          "height": 269
        },
        "id": "IQsqMx6qXlVu",
        "outputId": "634e799e-c223-4081-e070-dd1fc5d99f27"
      },
      "source": [
        "#Define Z space\n",
        "z = a.z_space()\n",
        "y = np.array([i[0] for i in z])\n",
        "x10 = np.array([i[1] for i in z])\n",
        "\n",
        "plt.scatter(x2, y2)\n",
        "\n",
        "plt.scatter(x10, y, c='red')\n",
        "plt.ylim(-100,200)\n",
        "plt.xlim(-50, 70)\n",
        "plt.show()\n"
      ],
      "execution_count": null,
      "outputs": [
        {
          "output_type": "display_data",
          "data": {
            "image/png": "[encoded data removed]",
            "text/plain": [
              "<Figure size 432x288 with 1 Axes>"
            ]
          },
          "metadata": {
            "needs_background": "light"
          }
        }
      ]
    },
    {
      "cell_type": "code",
      "metadata": {
        "colab": {
          "base_uri": "https://localhost:8080/",
          "height": 319
        },
        "id": "uJr10advZQIw",
        "outputId": "a77d00e8-3846-4f1b-802b-fb2b770985c4"
      },
      "source": [
        "#Project the original 2D data X to 1D\n",
        "\n",
        "print(U.shape)\n",
        "\n",
        "print(np.zeros(len(x10)).shape)\n",
        "print(np.array(x10).shape)\n",
        "plt.scatter(x10,y, c='red')\n",
        "plt.scatter(x10, np.zeros(len(x10)), c='black')\n",
        "plt.ylim(-100,200)\n",
        "plt.xlim(-50, 70)\n",
        "plt.show()\n",
        "\n"
      ],
      "execution_count": null,
      "outputs": [
        {
          "output_type": "stream",
          "name": "stdout",
          "text": [
            "(2, 2)\n",
            "(252,)\n",
            "(252,)\n"
          ]
        },
        {
          "output_type": "display_data",
          "data": {
            "image/png": "[encoded data removed]",
            "text/plain": [
              "<Figure size 432x288 with 1 Axes>"
            ]
          },
          "metadata": {
            "needs_background": "light"
          }
        }
      ]
    },
    {
      "cell_type": "code",
      "metadata": {
        "id": "yhd0G6kFaYJ-",
        "colab": {
          "base_uri": "https://localhost:8080/",
          "height": 286
        },
        "outputId": "2e99bc59-dab7-45d2-a1e5-2391566f4560"
      },
      "source": [
        "#Approximate the original data by M = 1\n",
        "\n",
        "U_T = U[:, 1:2].T\n",
        "\n",
        "\n",
        "x = np.array([U_T.dot(np.array([i]).T) for i in f_m])\n",
        "x = np.squeeze(x, axis=1)\n",
        "\n",
        "m10 = np.array([U_T.T*i + np.array([a_m]).T for i in x10])\n",
        "m = np.array([U_T.T*i + np.array([a_m]).T for i in x])\n",
        "\n",
        "x = [i[0]for i in np.squeeze(m)]\n",
        "y = [i[1] for i in np.squeeze(m)]\n",
        "\n",
        "x_t = [i[0]for i in np.squeeze(m10)]\n",
        "y_t = [i[1] for i in np.squeeze(m10)]\n",
        "\n",
        "plt.scatter(x1,y1)\n",
        "plt.scatter(x_t, y_t, c='grey')\n",
        "#plt.scatter(x,y)\n",
        "#plt.scatter(x10, np.zeros(len(x)), c='black')\n",
        "plt.ylim(-100,200)\n",
        "plt.xlim(-50, 70)\n",
        "plt.show()\n",
        "\n",
        "rmse = np.sqrt(np.square(np.subtract(y_t,y1)).mean())\n",
        "print(rmse)"
      ],
      "execution_count": null,
      "outputs": [
        {
          "output_type": "display_data",
          "data": {
            "image/png": "[encoded data removed]",
            "text/plain": [
              "<Figure size 432x288 with 1 Axes>"
            ]
          },
          "metadata": {
            "needs_background": "light"
          }
        },
        {
          "output_type": "stream",
          "name": "stdout",
          "text": [
            "2.3754387098656142\n"
          ]
        }
      ]
    },
    {
      "cell_type": "code",
      "metadata": {
        "colab": {
          "base_uri": "https://localhost:8080/",
          "height": 336
        },
        "id": "ZEuauKD-QSOE",
        "outputId": "4def8fb5-e307-4f4d-8675-fb170e299e95"
      },
      "source": [
        "#Compute a PCA for the complete data with all dimensions\n",
        "b = PCA(total_df)\n",
        "eig_vecs = b.eigenvectors(b.covariance())\n",
        "eig_vals = b.eigenvalues(b.covariance())\n",
        "\n",
        "print(eig_vals)\n",
        "z_space = b.z_space()\n",
        "#U_12_T = U[:,0:2].T\n",
        "\n",
        "\n",
        "#x = np.array([U_12_T.dot(np.array([i]).T) for i in f_m])\n",
        "\n",
        "\n",
        "#Define a two dimensional space based on the dimensions with bigger eigenvalues\n",
        "x = [i[0] for i in z_space]\n",
        "y = [i[1] for i in z_space]\n",
        "\n",
        "# compare with with projected 2D mean_free data\n",
        "plt.scatter(x,y)\n",
        "plt.scatter(x2, y2)\n",
        "plt.ylim(-100,200)\n",
        "plt.xlim(-100, 150)\n",
        "plt.show()\n",
        "\n"
      ],
      "execution_count": null,
      "outputs": [
        {
          "output_type": "stream",
          "name": "stdout",
          "text": [
            "[1.13242069e+03 1.78439305e+02 4.34083682e+01 1.20527579e+01\n",
            " 1.12788773e+01 6.86459119e+00 4.45367140e+00 8.27545458e-06\n",
            " 3.38197695e+00 2.40088242e-01 2.38466392e+00 1.04218201e+00\n",
            " 1.35056733e+00 1.66936817e+00 1.91475482e+00]\n"
          ]
        },
        {
          "output_type": "display_data",
          "data": {
            "image/png": "[encoded data removed]",
            "text/plain": [
              "<Figure size 432x288 with 1 Axes>"
            ]
          },
          "metadata": {
            "needs_background": "light"
          }
        }
      ]
    },
    {
      "cell_type": "code",
      "metadata": {
        "id": "xdEfRhEfaMZb"
      },
      "source": [
        ""
      ],
      "execution_count": null,
      "outputs": []
    }
  ]
}