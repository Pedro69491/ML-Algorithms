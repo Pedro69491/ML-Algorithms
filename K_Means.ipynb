{
  "nbformat": 4,
  "nbformat_minor": 0,
  "metadata": {
    "colab": {
      "name": "exercises week 7 (K-Means)",
      "provenance": [],
      "authorship_tag": "ABX9TyMXm5QALuL6rZd+b0H078Bz",
      "include_colab_link": true
    },
    "kernelspec": {
      "name": "python3",
      "display_name": "Python 3"
    },
    "language_info": {
      "name": "python"
    },
    "accelerator": "GPU"
  },
  "cells": [
    {
      "cell_type": "markdown",
      "metadata": {
        "id": "view-in-github",
        "colab_type": "text"
      },
      "source": [
        "<a href=\"https://colab.research.google.com/github/Pedro69491/ML-Algorithms/blob/main/K_Means.ipynb\" target=\"_parent\"><img src=\"https://colab.research.google.com/assets/colab-badge.svg\" alt=\"Open In Colab\"/></a>"
      ]
    },
    {
      "cell_type": "code",
      "metadata": {
        "id": "MXtNJX681klr"
      },
      "source": [
        "#7.2\n",
        "#Implement the K-means algorithm from scratch. Use your implementation and\n",
        "#segment the image so that you’ll have 5 different prototypes in each color channel. Report how you initialised your method and illustrate the segmentation result."
      ],
      "execution_count": null,
      "outputs": []
    },
    {
      "cell_type": "code",
      "metadata": {
        "id": "TewVie163OMl"
      },
      "source": [
        "import matplotlib.pyplot as plt\n",
        "import numpy as np\n",
        "import cv2\n",
        "import math\n",
        "from numba import jit, cuda\n",
        "\n",
        "\n",
        "\n",
        "img = cv2.imread('/content/test_image.png')\n",
        "\n",
        "img = cv2.cvtColor(img, cv2.COLOR_BGR2RGB)\n",
        "\n",
        "cv2.imwrite('/content/test_image.png', img)\n",
        "\n",
        "\n",
        "imgs = img.reshape(-1, 3)\n",
        "\n",
        "\n",
        "# or img = np.reshape(img, (img.shape[0] * img.shape[1], img.shape[2]))\n",
        "\n",
        "#Convert into a float\n",
        "#img = np.float32(img)\n",
        "\n",
        "#for i in img:\n",
        "  #print(i)\n",
        "\n",
        "#imgs = imgs[:1000]\n",
        "#img[img==255] = 1\n",
        "\n"
      ],
      "execution_count": null,
      "outputs": []
    },
    {
      "cell_type": "code",
      "metadata": {
        "id": "dR1-8tbENfci"
      },
      "source": [
        "class K_means():\n",
        "  \n",
        "  def __init__(self, imgs, n_centroids):\n",
        "    self.imgs = imgs\n",
        "    self.k = n_centroids\n",
        "    self.max_iterations = 5\n",
        "    self.centroids = [[] for i in range(self.k)]\n",
        "    self.labels = []\n",
        "\n",
        "  def initialize_centroid(self):\n",
        "    for i in range(self.k):\n",
        "      self.centroids[i] = np.random.choice(256, self.imgs.shape[1])\n",
        "    self.create_clusters(self.centroids)\n",
        "    print(self.centroids)\n",
        "  \n",
        "  def create_clusters(self, centroids):\n",
        "    self.clusters = [[] for i in range(self.k)]\n",
        "    for i in self.imgs:\n",
        "      self.clusters[self.euclidean_distance(i, self.centroids)].append(i)  \n",
        "    \n",
        "    #avoiding empty clusters\n",
        "    for i in range(self.k):\n",
        "      if len(self.clusters[i]) == 0:\n",
        "        self.initialize_centroid()\n",
        "    \n",
        "\n",
        "  def update_centroid(self): \n",
        "    counter = 0\n",
        "    for i in range(self.max_iterations):\n",
        "      counter += 1\n",
        "      print(counter)\n",
        "      new_centroids = [[] for i in range(self.k)]\n",
        "      for num in range(self.k):\n",
        "        new_centroids[num] = np.mean(self.clusters[num], 0)\n",
        "      #if self.is_completed(self.centroids, new_centroids):\n",
        "        #break\n",
        "      #else:\n",
        "      self.centroids = new_centroids\n",
        "      self.create_clusters(self.centroids)\n",
        "\n",
        "    self.final_result()\n",
        "\n",
        "  def euclidean_distance(self, point, centroids):\n",
        "    min = math.inf\n",
        "    cluster = 0\n",
        "    for num in range(self.k):\n",
        "      diff = np.linalg.norm(point-centroids[num])\n",
        "      if min >= diff:\n",
        "        min = diff\n",
        "        cluster = num\n",
        "    return cluster\n",
        "\n",
        "  def dist_centroids(self, mean_old, mean_new):\n",
        "    return mean_old - mean_new\n",
        "\n",
        "  def final_result(self):\n",
        "    print(self.centroids)\n",
        "    for point in self.imgs:\n",
        "      self.labels.append(self.euclidean_distance(point, self.centroids))\n",
        "    \n",
        "\n",
        "  def is_completed(self, old, new):\n",
        "    distances = [self.dist_centroids(old[i], new[i]) for i in range(self.k)]\n",
        "    return sum(distances) == 0\n",
        "    "
      ],
      "execution_count": null,
      "outputs": []
    },
    {
      "cell_type": "code",
      "metadata": {
        "colab": {
          "base_uri": "https://localhost:8080/"
        },
        "id": "qP4FWTM0RTn2",
        "outputId": "cfd82669-00e2-42fa-883e-4e50a5a9d83b"
      },
      "source": [
        "a = K_means(imgs, 3)\n",
        "a.initialize_centroid()\n",
        "a.update_centroid()"
      ],
      "execution_count": null,
      "outputs": [
        {
          "output_type": "stream",
          "name": "stdout",
          "text": [
            "[array([ 35,  36, 222]), array([ 81,  98, 166]), array([191, 149,  56])]\n",
            "1\n",
            "2\n",
            "3\n",
            "4\n",
            "5\n",
            "[array([ 73.51855917, 117.16880713, 196.10980876]), array([83.73361619, 73.2258812 , 70.23431245]), array([197.55698461, 189.88730812, 171.92131169])]\n"
          ]
        }
      ]
    },
    {
      "cell_type": "code",
      "metadata": {
        "id": "ZpArpDZo7Jk2"
      },
      "source": [
        ""
      ],
      "execution_count": null,
      "outputs": []
    },
    {
      "cell_type": "code",
      "metadata": {
        "id": "TVjNjJREO2ya"
      },
      "source": [
        ""
      ],
      "execution_count": null,
      "outputs": []
    },
    {
      "cell_type": "code",
      "metadata": {
        "colab": {
          "base_uri": "https://localhost:8080/",
          "height": 269
        },
        "id": "sHVbmm3RT_5S",
        "outputId": "c1034f00-8722-4023-c9fd-867e1668aa7d"
      },
      "source": [
        "labels = [1,2,3,1,3,2,3,4]\n",
        "\n",
        "segmented_image = centers[a.labels]\n",
        "\n",
        "segmented_image = segmented_image.reshape(img.shape)\n",
        "\n",
        "plt.imshow(segmented_image)\n",
        "\n",
        "plt.show()"
      ],
      "execution_count": null,
      "outputs": [
        {
          "output_type": "display_data",
          "data": {
            "image/png": "[encoded data removed]",
            "text/plain": [
              "<Figure size 432x288 with 1 Axes>"
            ]
          },
          "metadata": {
            "needs_background": "light"
          }
        }
      ]
    },
    {
      "cell_type": "markdown",
      "metadata": {
        "id": "5H1KZeXPkcSO"
      },
      "source": [
        ""
      ]
    }
  ]
}