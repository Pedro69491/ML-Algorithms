{
  "nbformat": 4,
  "nbformat_minor": 0,
  "metadata": {
    "colab": {
      "name": "Multilayer Perceptron ",
      "provenance": [],
      "authorship_tag": "ABX9TyOTlVsxDKTnM7gI12WS2ZVm",
      "include_colab_link": true
    },
    "kernelspec": {
      "name": "python3",
      "display_name": "Python 3"
    },
    "language_info": {
      "name": "python"
    }
  },
  "cells": [
    {
      "cell_type": "markdown",
      "metadata": {
        "id": "view-in-github",
        "colab_type": "text"
      },
      "source": [
        "<a href=\"https://colab.research.google.com/github/Pedro69491/ML-Algorithms/blob/main/Multilayer_Perceptron.ipynb\" target=\"_parent\"><img src=\"https://colab.research.google.com/assets/colab-badge.svg\" alt=\"Open In Colab\"/></a>"
      ]
    },
    {
      "cell_type": "code",
      "metadata": {
        "colab": {
          "base_uri": "https://localhost:8080/"
        },
        "id": "7m5lenA5la6K",
        "outputId": "1b2568e3-9ebd-4317-f4b9-77219dbc323f"
      },
      "source": [
        "%tensorflow_version 1.x"
      ],
      "execution_count": 1,
      "outputs": [
        {
          "output_type": "stream",
          "name": "stdout",
          "text": [
            "TensorFlow 1.x selected.\n"
          ]
        }
      ]
    },
    {
      "cell_type": "code",
      "metadata": {
        "id": "AIURorjXoV0B"
      },
      "source": [
        "import tensorflow as tf\n",
        "import numpy as np\n",
        "import matplotlib.pyplot as plt\n",
        "from sklearn.model_selection import train_test_split\n",
        "import random"
      ],
      "execution_count": 2,
      "outputs": []
    },
    {
      "cell_type": "code",
      "metadata": {
        "colab": {
          "base_uri": "https://localhost:8080/",
          "height": 265
        },
        "id": "fN6NNX2sosBy",
        "outputId": "c2f81747-9d61-431e-9243-62fd125bcf0d"
      },
      "source": [
        "c1 = np.random.multivariate_normal((0,0),np.array([[1,0], [0,1]]), 500)\n",
        "c2 = np.random.multivariate_normal((2,0), np.dot(4,np.array([[1,0], [0,1]])), 500)\n",
        "\n",
        "\n",
        "\n",
        "plt.scatter(c1[:,0], c1[:,1], c='red')\n",
        "plt.scatter(c2[:,0], c2[:,1], c='blue')\n",
        "plt.show()\n",
        "\n",
        "data = np.vstack((c1,c2))"
      ],
      "execution_count": 3,
      "outputs": [
        {
          "output_type": "display_data",
          "data": {
            "image/png": "[encoded data removed]",
            "text/plain": [
              "<Figure size 432x288 with 1 Axes>"
            ]
          },
          "metadata": {
            "needs_background": "light"
          }
        }
      ]
    },
    {
      "cell_type": "code",
      "metadata": {
        "id": "LG9ZJ4k7Nia3"
      },
      "source": [
        "#dic = {str(data[i]):(-1 if i<500 else 1) for i in range(len(data))}\n",
        "\n",
        "x_train = np.array([i for i in data[0:1000:2]])\n",
        "x_test = np.array([i for i in data[1:1000:2]])\n",
        "\n",
        "t_train = np.zeros((len(x_train)))\n",
        "t_test = np.zeros((len(x_test)))\n",
        "\n",
        "t_train[250:500] = 1\n",
        "t_test[250:500] = 1\n",
        "\n",
        "\n",
        "t_train = np.eye(2)[t_train.astype(int)]\n",
        "t_test = np.eye(2)[t_test.astype(int)]"
      ],
      "execution_count": 4,
      "outputs": []
    },
    {
      "cell_type": "code",
      "metadata": {
        "colab": {
          "base_uri": "https://localhost:8080/"
        },
        "id": "zC-kR1SOa34I",
        "outputId": "35844728-eac5-4c0f-8cd7-4f8a147e86d5"
      },
      "source": [
        "a = tf.constant([[1.0,2.0],[1.0,3.0],[1.0,4.0]])\n",
        "res = tf.nn.softmax(a)\n",
        "print(res.eval(session=tf.compat.v1.Session()))\n",
        "\n",
        "print(tf.argmax(res,1).eval(session=tf.compat.v1.Session()))\n",
        "\n",
        "print(tf.cast([True, False], dtype=tf.float32).eval(session=tf.compat.v1.Session()))"
      ],
      "execution_count": 5,
      "outputs": [
        {
          "output_type": "stream",
          "name": "stdout",
          "text": [
            "[[0.26894143 0.7310586 ]\n",
            " [0.11920291 0.880797  ]\n",
            " [0.04742587 0.95257413]]\n",
            "[1 1 1]\n",
            "[1. 0.]\n"
          ]
        }
      ]
    },
    {
      "cell_type": "code",
      "metadata": {
        "colab": {
          "base_uri": "https://localhost:8080/"
        },
        "id": "bSsx7sRJzWDd",
        "outputId": "1f454ecb-2ca0-4260-fb75-a6b1e5671fee"
      },
      "source": [
        "x = tf.placeholder(tf.float32, [None, 2])\n",
        "t = tf.placeholder(tf.float32, [None, 2])\n",
        "\n",
        "#Optimization Parameters\n",
        "learning_rate = tf.placeholder(tf.float32)\n",
        "momentum = tf.placeholder(tf.float32)\n",
        "n_epochs = 10000\n",
        "\n",
        "#Model parameters\n",
        "W1 = tf.get_variable('W1', [2,2], initializer=tf.random_normal_initializer)\n",
        "b1 = tf.get_variable('B1',[2], initializer=tf.random_normal_initializer)\n",
        "W2 = tf.get_variable('W2', [2,2], initializer=tf.random_normal_initializer)\n",
        "b2 = tf.get_variable('B2', [2], initializer=tf.random_normal_initializer)\n",
        "\n",
        "\n",
        "#Construct model\n",
        "a1 = tf.matmul(x, W1) + b1\n",
        "#tanh highligths negative values, adding more quality to the classification process\n",
        "z1 = tf.tanh(a1)\n",
        "a2 = tf.matmul(z1, W2) + b2\n",
        "y = tf.nn.sigmoid(a2)\n",
        "\n",
        "prediction = tf.argmax(y, 1)\n",
        "#tf.equal Returns the truth value of (x == y) element-wise.\n",
        "accuracy = tf.reduce_mean(tf.cast(tf.equal(prediction, tf.argmax(t, 1)), tf.float32))\n",
        "\n",
        "loss_test = tf.compat.v1.losses.mean_squared_error(labels=t, predictions=y)\n",
        "\n",
        "print(loss_test)\n",
        "loss = tf.reduce_mean(tf.nn.sigmoid_cross_entropy_with_logits(labels=t, logits=a2))\n",
        "optimizer = tf.train.MomentumOptimizer(learning_rate =learning_rate, momentum=momentum).minimize(loss)\n",
        "#Initialize the variables\n",
        "init = tf.global_variables_initializer()\n"
      ],
      "execution_count": 6,
      "outputs": [
        {
          "output_type": "stream",
          "name": "stdout",
          "text": [
            "WARNING:tensorflow:From /tensorflow-1.15.2/python3.7/tensorflow_core/python/ops/losses/losses_impl.py:121: where (from tensorflow.python.ops.array_ops) is deprecated and will be removed in a future version.\n",
            "Instructions for updating:\n",
            "Use tf.where in 2.0, which has the same broadcast rule as np.where\n",
            "Tensor(\"mean_squared_error/value:0\", shape=(), dtype=float32)\n"
          ]
        }
      ]
    },
    {
      "cell_type": "code",
      "metadata": {
        "colab": {
          "base_uri": "https://localhost:8080/"
        },
        "id": "ywKItXDU2aDq",
        "outputId": "16826b98-fee2-4fd7-e077-72b71b2cad1b"
      },
      "source": [
        "#Start a new session \n",
        "total_accuracy = 0\n",
        "accum_error = 0\n",
        "for i in range(10):\n",
        "    with tf.Session() as session:\n",
        "      #initialize the values\n",
        "      session.run(init)\n",
        "      print('expert {}'.format(i+1))\n",
        "      #training cycle\n",
        "      for epoch in range(n_epochs):\n",
        "        _, error = session.run([optimizer, loss], feed_dict={x: x_train, t: t_train, learning_rate: 0.1, momentum: 0.5})\n",
        "\n",
        "        if epoch%1000 == 0:\n",
        "          print(\"Epoch: {}, loss: {}\".format(epoch, error))\n",
        "      expert_error = session.run(loss_test, feed_dict={x: x_test, t: t_test})\n",
        "      accuracy_value = session.run(accuracy, feed_dict={x: x_test, t: t_test})\n",
        "      print(\"Accuracy:\", accuracy_value)\n",
        "      print(\"error:\", expert_error)\n",
        "      total_accuracy += accuracy_value\n",
        "      accum_error += expert_error\n",
        "    print('Optimization done')\n",
        "\n",
        "print('Normalized Accuracy: ', total_accuracy/10)\n",
        "print(\"Normalized error:\", accum_error/10)"
      ],
      "execution_count": 8,
      "outputs": [
        {
          "output_type": "stream",
          "name": "stdout",
          "text": [
            "expert 1\n",
            "Epoch: 0, loss: 1.0838464498519897\n",
            "Epoch: 1000, loss: 0.4229671359062195\n",
            "Epoch: 2000, loss: 0.39737096428871155\n",
            "Epoch: 3000, loss: 0.39417070150375366\n",
            "Epoch: 4000, loss: 0.39278697967529297\n",
            "Epoch: 5000, loss: 0.39198553562164307\n",
            "Epoch: 6000, loss: 0.39146438241004944\n",
            "Epoch: 7000, loss: 0.39110076427459717\n",
            "Epoch: 8000, loss: 0.3908333480358124\n",
            "Epoch: 9000, loss: 0.39062848687171936\n",
            "Accuracy: 0.784\n",
            "error: 0.15494339\n",
            "Optimization done\n",
            "expert 2\n",
            "Epoch: 0, loss: 0.9973272681236267\n",
            "Epoch: 1000, loss: 0.4413972795009613\n",
            "Epoch: 2000, loss: 0.4165151119232178\n",
            "Epoch: 3000, loss: 0.39598962664604187\n",
            "Epoch: 4000, loss: 0.3933197259902954\n",
            "Epoch: 5000, loss: 0.39227187633514404\n",
            "Epoch: 6000, loss: 0.3916473984718323\n",
            "Epoch: 7000, loss: 0.3912279009819031\n",
            "Epoch: 8000, loss: 0.3909268081188202\n",
            "Epoch: 9000, loss: 0.39070022106170654\n",
            "Accuracy: 0.782\n",
            "error: 0.15496543\n",
            "Optimization done\n",
            "expert 3\n",
            "Epoch: 0, loss: 1.1950651407241821\n",
            "Epoch: 1000, loss: 0.4428689181804657\n",
            "Epoch: 2000, loss: 0.4387452304363251\n",
            "Epoch: 3000, loss: 0.4354982376098633\n",
            "Epoch: 4000, loss: 0.3995181620121002\n",
            "Epoch: 5000, loss: 0.395045667886734\n",
            "Epoch: 6000, loss: 0.39309126138687134\n",
            "Epoch: 7000, loss: 0.3921346962451935\n",
            "Epoch: 8000, loss: 0.3915565311908722\n",
            "Epoch: 9000, loss: 0.3911654055118561\n",
            "Accuracy: 0.782\n",
            "error: 0.15502024\n",
            "Optimization done\n",
            "expert 4\n",
            "Epoch: 0, loss: 0.65567946434021\n",
            "Epoch: 1000, loss: 0.41856878995895386\n",
            "Epoch: 2000, loss: 0.4038151204586029\n",
            "Epoch: 3000, loss: 0.39552006125450134\n",
            "Epoch: 4000, loss: 0.3927989602088928\n",
            "Epoch: 5000, loss: 0.3918156027793884\n",
            "Epoch: 6000, loss: 0.39130017161369324\n",
            "Epoch: 7000, loss: 0.39096617698669434\n",
            "Epoch: 8000, loss: 0.3907257616519928\n",
            "Epoch: 9000, loss: 0.39054208993911743\n",
            "Accuracy: 0.784\n",
            "error: 0.15488754\n",
            "Optimization done\n",
            "expert 5\n",
            "Epoch: 0, loss: 1.2810826301574707\n",
            "Epoch: 1000, loss: 0.44627970457077026\n",
            "Epoch: 2000, loss: 0.4133796989917755\n",
            "Epoch: 3000, loss: 0.39551880955696106\n",
            "Epoch: 4000, loss: 0.39318522810935974\n",
            "Epoch: 5000, loss: 0.3921988904476166\n",
            "Epoch: 6000, loss: 0.391605406999588\n",
            "Epoch: 7000, loss: 0.3912017345428467\n",
            "Epoch: 8000, loss: 0.39090901613235474\n",
            "Epoch: 9000, loss: 0.39068731665611267\n",
            "Accuracy: 0.782\n",
            "error: 0.15495636\n",
            "Optimization done\n",
            "expert 6\n",
            "Epoch: 0, loss: 0.8104051351547241\n",
            "Epoch: 1000, loss: 0.4065956473350525\n",
            "Epoch: 2000, loss: 0.39594998955726624\n",
            "Epoch: 3000, loss: 0.3935430347919464\n",
            "Epoch: 4000, loss: 0.39242467284202576\n",
            "Epoch: 5000, loss: 0.39175549149513245\n",
            "Epoch: 6000, loss: 0.39130768179893494\n",
            "Epoch: 7000, loss: 0.39098766446113586\n",
            "Epoch: 8000, loss: 0.39074793457984924\n",
            "Epoch: 9000, loss: 0.39056167006492615\n",
            "Accuracy: 0.784\n",
            "error: 0.1549266\n",
            "Optimization done\n",
            "expert 7\n",
            "Epoch: 0, loss: 0.6860712766647339\n",
            "Epoch: 1000, loss: 0.41035890579223633\n",
            "Epoch: 2000, loss: 0.39637675881385803\n",
            "Epoch: 3000, loss: 0.3936671316623688\n",
            "Epoch: 4000, loss: 0.3924834132194519\n",
            "Epoch: 5000, loss: 0.3917914628982544\n",
            "Epoch: 6000, loss: 0.3913326859474182\n",
            "Epoch: 7000, loss: 0.39100611209869385\n",
            "Epoch: 8000, loss: 0.39076200127601624\n",
            "Epoch: 9000, loss: 0.3905729353427887\n",
            "Accuracy: 0.784\n",
            "error: 0.15492655\n",
            "Optimization done\n",
            "expert 8\n",
            "Epoch: 0, loss: 0.8685248494148254\n",
            "Epoch: 1000, loss: 0.41182371973991394\n",
            "Epoch: 2000, loss: 0.3974992334842682\n",
            "Epoch: 3000, loss: 0.3937000632286072\n",
            "Epoch: 4000, loss: 0.3923937976360321\n",
            "Epoch: 5000, loss: 0.3917086124420166\n",
            "Epoch: 6000, loss: 0.39126843214035034\n",
            "Epoch: 7000, loss: 0.3909570574760437\n",
            "Epoch: 8000, loss: 0.3907241225242615\n",
            "Epoch: 9000, loss: 0.3905428349971771\n",
            "Accuracy: 0.784\n",
            "error: 0.15490976\n",
            "Optimization done\n",
            "expert 9\n",
            "Epoch: 0, loss: 1.1371451616287231\n",
            "Epoch: 1000, loss: 0.44583502411842346\n",
            "Epoch: 2000, loss: 0.44385311007499695\n",
            "Epoch: 3000, loss: 0.4421943426132202\n",
            "Epoch: 4000, loss: 0.4369334280490875\n",
            "Epoch: 5000, loss: 0.4091966450214386\n",
            "Epoch: 6000, loss: 0.4015392065048218\n",
            "Epoch: 7000, loss: 0.3988596200942993\n",
            "Epoch: 8000, loss: 0.39406949281692505\n",
            "Epoch: 9000, loss: 0.3919624984264374\n",
            "Accuracy: 0.788\n",
            "error: 0.15452506\n",
            "Optimization done\n",
            "expert 10\n",
            "Epoch: 0, loss: 0.7172895669937134\n",
            "Epoch: 1000, loss: 0.41773125529289246\n",
            "Epoch: 2000, loss: 0.3966347277164459\n",
            "Epoch: 3000, loss: 0.39372798800468445\n",
            "Epoch: 4000, loss: 0.39251723885536194\n",
            "Epoch: 5000, loss: 0.3918137848377228\n",
            "Epoch: 6000, loss: 0.3913479745388031\n",
            "Epoch: 7000, loss: 0.39101704955101013\n",
            "Epoch: 8000, loss: 0.3907702565193176\n",
            "Epoch: 9000, loss: 0.39057931303977966\n",
            "Accuracy: 0.784\n",
            "error: 0.15493122\n",
            "Optimization done\n",
            "Normalized Accuracy:  0.7837999880313873\n",
            "Normalized error: 0.15489921420812608\n"
          ]
        }
      ]
    }
  ]
}