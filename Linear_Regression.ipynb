{
  "nbformat": 4,
  "nbformat_minor": 0,
  "metadata": {
    "colab": {
      "name": "ex2.1",
      "provenance": [],
      "authorship_tag": "ABX9TyMjaU7CaOjwUVEilz9neK4T",
      "include_colab_link": true
    },
    "kernelspec": {
      "name": "python3",
      "display_name": "Python 3"
    },
    "language_info": {
      "name": "python"
    }
  },
  "cells": [
    {
      "cell_type": "markdown",
      "metadata": {
        "id": "view-in-github",
        "colab_type": "text"
      },
      "source": [
        "<a href=\"https://colab.research.google.com/github/Pedro69491/ML-Algorithms/blob/main/Linear_Regression.ipynb\" target=\"_parent\"><img src=\"https://colab.research.google.com/assets/colab-badge.svg\" alt=\"Open In Colab\"/></a>"
      ]
    },
    {
      "cell_type": "code",
      "metadata": {
        "id": "Gfaz5MMssqxn"
      },
      "source": [
        "from sklearn.model_selection import train_test_split\n",
        "import numpy as np\n",
        "from sklearn import linear_model\n",
        "import matplotlib.pyplot as plt\n",
        "from sklearn.metrics import mean_squared_error"
      ],
      "execution_count": null,
      "outputs": []
    },
    {
      "cell_type": "code",
      "metadata": {
        "id": "tlU6OCFImxem"
      },
      "source": [
        "#create two numpy arrays representing input and target values\n",
        "X = np.empty((252,13))\n",
        "Y = np.empty((252,1))\n",
        "\n",
        "X2 = np.empty((252,1))"
      ],
      "execution_count": null,
      "outputs": []
    },
    {
      "cell_type": "code",
      "metadata": {
        "id": "rAO-VyORmyhA"
      },
      "source": [
        "#clean the data and fill the numpy arrays\n",
        "with open('/content/bodyfat.txt', 'r') as t:\n",
        "    t = t.readlines()\n",
        "    col_counter = 0\n",
        "    for i in t[2:]:\n",
        "        i = i.replace('\\n', '')\n",
        "        i = i.split()\n",
        "        row_counter = 0\n",
        "        Y[col_counter] = i[1]\n",
        "        X2[col_counter] = i[7]\n",
        "        for j in range(2,len(i)):\n",
        "            X[col_counter][row_counter] = i[j]\n",
        "            row_counter = row_counter + 1\n",
        "        col_counter += 1"
      ],
      "execution_count": null,
      "outputs": []
    },
    {
      "cell_type": "code",
      "metadata": {
        "colab": {
          "base_uri": "https://localhost:8080/"
        },
        "id": "-VkaX4Z7nGz9",
        "outputId": "8ff33b22-5b9a-412e-c78d-012ef3b6fb61"
      },
      "source": [
        "X_train, X_test, Y_train, Y_test = train_test_split(X, Y, test_size=0.1)\n",
        "\n",
        "#Create linear Regression object\n",
        "reg = linear_model.LinearRegression()\n",
        "\n",
        "#fit the model based on training values\n",
        "reg.fit(X_train, Y_train)"
      ],
      "execution_count": null,
      "outputs": [
        {
          "output_type": "execute_result",
          "data": {
            "text/plain": [
              "LinearRegression()"
            ]
          },
          "metadata": {},
          "execution_count": 6
        }
      ]
    },
    {
      "cell_type": "code",
      "metadata": {
        "colab": {
          "base_uri": "https://localhost:8080/",
          "height": 549
        },
        "id": "D2NNaNqOnMK_",
        "outputId": "edc08661-e81f-4e9b-b960-663bedea8f45"
      },
      "source": [
        "#Prediction for test and train data\n",
        "y_train_pred = reg.predict(X_train)\n",
        "y_test_pred = reg.predict(X_test)\n",
        "\n",
        "#plot the results\n",
        "plt.scatter(Y_train, y_train_pred)\n",
        "plt.show()\n",
        "\n",
        "plt.scatter(Y_test, y_test_pred)\n",
        "plt.show()\n",
        "\n",
        "#Evaluate the model\n",
        "print(mean_squared_error(Y_train, y_train_pred, squared=False))\n",
        "print(mean_squared_error(Y_test, y_test_pred, squared=False))"
      ],
      "execution_count": null,
      "outputs": [
        {
          "output_type": "display_data",
          "data": {
            "image/png": "[encoded data removed]",
            "text/plain": [
              "<Figure size 432x288 with 1 Axes>"
            ]
          },
          "metadata": {
            "needs_background": "light"
          }
        },
        {
          "output_type": "display_data",
          "data": {
            "image/png": "[encoded data removed]",
            "text/plain": [
              "<Figure size 432x288 with 1 Axes>"
            ]
          },
          "metadata": {
            "needs_background": "light"
          }
        },
        {
          "output_type": "stream",
          "name": "stdout",
          "text": [
            "4.247031799172709\n",
            "3.6550320021258864\n"
          ]
        }
      ]
    }
  ]
}